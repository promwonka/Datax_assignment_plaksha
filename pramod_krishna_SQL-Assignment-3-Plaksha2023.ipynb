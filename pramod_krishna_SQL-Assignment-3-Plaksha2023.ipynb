{
 "cells": [
  {
   "cell_type": "markdown",
   "id": "b3d08535",
   "metadata": {},
   "source": [
    "<img src=\"https://raw.githubusercontent.com/afo/data-x-plaksha/master/imgsource/dx_logo.png\" align=\"left\"></img><br><br><br><br>"
   ]
  },
  {
   "cell_type": "markdown",
   "id": "4c408082",
   "metadata": {},
   "source": [
    "## Plaksha SQL assignment"
   ]
  },
  {
   "cell_type": "markdown",
   "id": "7f7d4113-c3a9-47b2-b7df-b844d49abd22",
   "metadata": {},
   "source": [
    "---\n",
    "\n",
    "## Submission details:\n",
    "\n",
    "Please submit this as a Jupyter Notebook and a PDF of your results (both should show output). Also push your solutions to Github.\n",
    "\n",
    "For the submision create a local database with `sqlite3` or `sqlalchemy` in a Jupyter notebook and make the queries either with a cursor object (and then print the results) or by using pandas `pd.read_sql_query()`."
   ]
  },
  {
   "cell_type": "markdown",
   "id": "0c551f03-7eff-43e2-89a7-a53b54098223",
   "metadata": {},
   "source": [
    "___\n",
    "\n",
    "When completing this homework you can experiment with SQL commands by utilizing this great online editor:\n",
    "\n",
    "https://www.w3schools.com/sql/trysql.asp?filename=trysql_select_all\n",
    "\n",
    "There are already some tables in the online Database, namely:\n",
    "\n",
    "`Categories, Employees, OrderDetails, Orders, Products, Shippers, and Suppliers.`\n",
    "\n",
    "If you want you can drop them by running  `DROP TABLE [table-name];` (or just keep them)."
   ]
  },
  {
   "cell_type": "markdown",
   "id": "dccc820f-21b0-4b2c-9ca8-9cb9eab76023",
   "metadata": {},
   "source": [
    "___\n",
    "\n",
    "## Exercises:\n",
    "\n",
    "First create a table called students. It has the columns: 'student_id', 'name', 'major', 'gpa' and 'enrollment_date' We will use a new form of `CREATE TABLE` expression to produce this table.\n",
    "\n",
    "Note that you can improve this and are welcome to do so -- e.g. by specifying for example a PRIMARY KEY and a FOREIGN KEY in Q2 :)\n",
    "\n",
    "    CREATE TABLE students AS\n",
    "        SELECT 1 AS student_id, \"John\" AS name, \"Computer Science\" AS major, 3.5 AS gpa, \"01-01-2022\" AS enrollment_date UNION\n",
    "        SELECT 2, \"Jane\", \"Physics\", 3.8, \"01-02-2022\" UNION\n",
    "        SELECT 3, \"Bob\", \"Engineering\", 3.0, \"01-03-2022\" UNION\n",
    "        SELECT 4, \"Samantha\", \"Physics\", 3.9, \"01-04-2022\" UNION\n",
    "        SELECT 5, \"James\", \"Engineering\", 3.7, \"01-05-2022\" UNION\n",
    "        SELECT 6, \"Emily\", \"Computer Science\", 3.6, \"01-06-2022\" UNION\n",
    "        SELECT 7, \"Michael\", \"Computer Science\", 3.2, \"01-07-2022\" UNION\n",
    "        SELECT 8, \"Jessica\", \"Engineering\", 3.8, \"01-08-2022\" UNION\n",
    "        SELECT 9, \"Jacob\", \"Physics\", 3.4, \"01-09-2022\" UNION\n",
    "        SELECT 10, \"Ashley\", \"Physics\", 3.9, \"01-10-2022\";\n",
    "\n",
    "\n",
    "## Q1 Simple SELECTS (on the students table)\n",
    "1. SELECT all records in the table.\n",
    "2. SELECT students whose major is \"Computer Science\".\n",
    "3. SELECT all unique majors (use SELECT DISTINCT) and order them by name, descending order (i.e. Physics first).\n",
    "4. SELECT all students that have an 'e' in their name and order them by gpa in ascending order.\n",
    "\n",
    "\n",
    "## Q2 Joins\n",
    "\n",
    "Create a new table called courses, which indicates the courses taken by the students. \n",
    "\n",
    "Create the table by running:\n",
    "\t\n",
    "    CREATE TABLE courses AS\n",
    "        SELECT 1 AS course_id, \"Python programming\" AS course_name, 1 AS student_id, \"A\" AS grade UNION\n",
    "        SELECT 2, \"Data Structures\", 2, \"B\" UNION\n",
    "        SELECT 3, \"Database Systems\", 3, \"B\" UNION\n",
    "        SELECT 1, \"Python programming\", 4, \"A\" UNION\n",
    "        SELECT 4, \"Quantum Mechanics\", 5, \"C\" UNION\n",
    "        SELECT 1, \"Python programming\", 6, \"F\" UNION\n",
    "        SELECT 2, \"Data Structures\", 7, \"C\" UNION\n",
    "        SELECT 3, \"Database Systems\", 8, \"A\" UNION\n",
    "        SELECT 4, \"Quantum Mechanics\", 9, \"A\" UNION\n",
    "        SELECT 2, \"Data Structures\", 10, \"F\";\n",
    "\n",
    "1. COUNT the number of unique courses.\n",
    "2. JOIN the tables students and courses and COUNT the number of students with the major Computer Science taking the course Python programming.\n",
    "3. JOIN the tables students and courses and select the students who have grades higher than \"C\", only show their name, major, gpa, course_name and grade.\n",
    "\n",
    "\n",
    "## Q3 Aggregate functions, numerical logic and grouping\n",
    "\n",
    "1. Find the average gpa of all students.\n",
    "2. SELECT the student with the maximum gpa, display only their student_id, major and gpa\n",
    "3. SELECT the student with the minimum gpa, display only their student_id, major and gpa\n",
    "4. SELECT the students with a gpa greater than 3.6 in the majors of \"Physics\" and \"Engineering\", display only their student_id, major and gpa\n",
    "5. Group the students by their major and retrieve the average grade of each major.\n",
    "6. SELECT the top 2 students with the highest GPA in each major and order the results by major in ascending order, then by GPA in descending order"
   ]
  },
  {
   "cell_type": "markdown",
   "id": "3ab84519",
   "metadata": {},
   "source": [
    "# Your solution"
   ]
  },
  {
   "cell_type": "code",
   "execution_count": 1,
   "id": "03be12c6",
   "metadata": {},
   "outputs": [],
   "source": [
    "# connecting database\n",
    "import sqlite3\n",
    "connection = sqlite3.connect('students.db')\n",
    "cursor = connection.cursor()\n"
   ]
  },
  {
   "cell_type": "code",
   "execution_count": 4,
   "id": "412f6c74",
   "metadata": {},
   "outputs": [],
   "source": [
    "sql_command = \"\"\"\n",
    "CREATE TABLE students AS\n",
    "        SELECT 1 AS student_id, \"John\" AS name, \"Computer Science\" AS major, 3.5 AS gpa, \"01-01-2022\" AS enrollment_date UNION\n",
    "        SELECT 2, \"Jane\", \"Physics\", 3.8, \"01-02-2022\" UNION\n",
    "        SELECT 3, \"Bob\", \"Engineering\", 3.0, \"01-03-2022\" UNION\n",
    "        SELECT 4, \"Samantha\", \"Physics\", 3.9, \"01-04-2022\" UNION\n",
    "        SELECT 5, \"James\", \"Engineering\", 3.7, \"01-05-2022\" UNION\n",
    "        SELECT 6, \"Emily\", \"Computer Science\", 3.6, \"01-06-2022\" UNION\n",
    "        SELECT 7, \"Michael\", \"Computer Science\", 3.2, \"01-07-2022\" UNION\n",
    "        SELECT 8, \"Jessica\", \"Engineering\", 3.8, \"01-08-2022\" UNION\n",
    "        SELECT 9, \"Jacob\", \"Physics\", 3.4, \"01-09-2022\" UNION\n",
    "        SELECT 10, \"Ashley\", \"Physics\", 3.9, \"01-10-2022\";\n",
    "\"\"\"\n",
    "cursor.execute(sql_command)"
   ]
  },
  {
   "attachments": {},
   "cell_type": "markdown",
   "id": "27647386",
   "metadata": {},
   "source": [
    "## Q1 Simple SELECTS (on the students table)"
   ]
  },
  {
   "cell_type": "code",
   "execution_count": 2,
   "id": "57297740",
   "metadata": {},
   "outputs": [
    {
     "data": {
      "text/plain": [
       "[(1, 'John', 'Computer Science', 3.5, '01-01-2022'),\n",
       " (2, 'Jane', 'Physics', 3.8, '01-02-2022'),\n",
       " (3, 'Bob', 'Engineering', 3.0, '01-03-2022'),\n",
       " (4, 'Samantha', 'Physics', 3.9, '01-04-2022'),\n",
       " (5, 'James', 'Engineering', 3.7, '01-05-2022'),\n",
       " (6, 'Emily', 'Computer Science', 3.6, '01-06-2022'),\n",
       " (7, 'Michael', 'Computer Science', 3.2, '01-07-2022'),\n",
       " (8, 'Jessica', 'Engineering', 3.8, '01-08-2022'),\n",
       " (9, 'Jacob', 'Physics', 3.4, '01-09-2022'),\n",
       " (10, 'Ashley', 'Physics', 3.9, '01-10-2022')]"
      ]
     },
     "execution_count": 2,
     "metadata": {},
     "output_type": "execute_result"
    }
   ],
   "source": [
    "#  SELECT all records in the table\n",
    "cursor.execute('SELECT * FROM students;').fetchall()"
   ]
  },
  {
   "cell_type": "code",
   "execution_count": 3,
   "id": "cf2923e0",
   "metadata": {},
   "outputs": [
    {
     "data": {
      "text/plain": [
       "[('John',), ('Emily',), ('Michael',)]"
      ]
     },
     "execution_count": 3,
     "metadata": {},
     "output_type": "execute_result"
    }
   ],
   "source": [
    "# SELECT students whose major is \"Computer Science\"\n",
    "cursor.execute('SELECT name FROM students WHERE major IS \"Computer Science\";').fetchall()"
   ]
  },
  {
   "cell_type": "code",
   "execution_count": 4,
   "id": "b34f40b2",
   "metadata": {},
   "outputs": [
    {
     "data": {
      "text/plain": [
       "[('Physics',), ('Engineering',), ('Computer Science',)]"
      ]
     },
     "execution_count": 4,
     "metadata": {},
     "output_type": "execute_result"
    }
   ],
   "source": [
    "# SELECT all unique majors (use SELECT DISTINCT) and order them by name, descending order (i.e. Physics first)\n",
    "cursor.execute('SELECT DISTINCT major FROM students ORDER BY major DESC;').fetchall()"
   ]
  },
  {
   "cell_type": "code",
   "execution_count": 5,
   "id": "a5fa3ef6",
   "metadata": {},
   "outputs": [
    {
     "data": {
      "text/plain": [
       "[('Michael',), ('Emily',), ('James',), ('Jane',), ('Jessica',), ('Ashley',)]"
      ]
     },
     "execution_count": 5,
     "metadata": {},
     "output_type": "execute_result"
    }
   ],
   "source": [
    "# SELECT all students that have an 'e' in their name and order them by gpa in ascending order.\n",
    "cursor.execute('SELECT name FROM students WHERE name LIKE \"%e%\" ORDER BY gpa ASC;').fetchall()"
   ]
  },
  {
   "cell_type": "code",
   "execution_count": null,
   "id": "0d446bcd",
   "metadata": {},
   "outputs": [],
   "source": []
  },
  {
   "cell_type": "code",
   "execution_count": null,
   "id": "444e6e5b",
   "metadata": {},
   "outputs": [],
   "source": []
  },
  {
   "attachments": {},
   "cell_type": "markdown",
   "id": "a0f32005",
   "metadata": {},
   "source": [
    "## Q2 Joins"
   ]
  },
  {
   "cell_type": "code",
   "execution_count": 6,
   "id": "f6c68a2e",
   "metadata": {},
   "outputs": [],
   "source": [
    "connection = sqlite3.connect('courses.db')\n",
    "cursor = connection.cursor()"
   ]
  },
  {
   "cell_type": "code",
   "execution_count": 7,
   "id": "5ab3bcf8",
   "metadata": {},
   "outputs": [],
   "source": [
    "# We can define long SQL commands within three quotes\n",
    "\n",
    "sql_command = \"\"\"\n",
    "CREATE TABLE courses AS\n",
    "        SELECT 1 AS course_id, \"Python programming\" AS course_name, 1 AS student_id, \"A\" AS grade UNION\n",
    "        SELECT 2, \"Data Structures\", 2, \"B\" UNION\n",
    "        SELECT 3, \"Database Systems\", 3, \"B\" UNION\n",
    "        SELECT 1, \"Python programming\", 4, \"A\" UNION\n",
    "        SELECT 4, \"Quantum Mechanics\", 5, \"C\" UNION\n",
    "        SELECT 1, \"Python programming\", 6, \"F\" UNION\n",
    "        SELECT 2, \"Data Structures\", 7, \"C\" UNION\n",
    "        SELECT 3, \"Database Systems\", 8, \"A\" UNION\n",
    "        SELECT 4, \"Quantum Mechanics\", 9, \"A\" UNION\n",
    "        SELECT 2, \"Data Structures\", 10, \"F\";\n",
    "\"\"\"\n",
    "cursor.execute(sql_command)"
   ]
  },
  {
   "cell_type": "code",
   "execution_count": 11,
   "id": "5cfdd352",
   "metadata": {},
   "outputs": [
    {
     "data": {
      "text/plain": [
       "[(1, 'Python programming', 1, 'A'),\n",
       " (1, 'Python programming', 4, 'A'),\n",
       " (1, 'Python programming', 6, 'F'),\n",
       " (2, 'Data Structures', 2, 'B'),\n",
       " (2, 'Data Structures', 7, 'C'),\n",
       " (2, 'Data Structures', 10, 'F'),\n",
       " (3, 'Database Systems', 3, 'B'),\n",
       " (3, 'Database Systems', 8, 'A'),\n",
       " (4, 'Quantum Mechanics', 5, 'C'),\n",
       " (4, 'Quantum Mechanics', 9, 'A')]"
      ]
     },
     "execution_count": 11,
     "metadata": {},
     "output_type": "execute_result"
    }
   ],
   "source": [
    "cursor.execute('SELECT * FROM courses;').fetchall()"
   ]
  },
  {
   "cell_type": "code",
   "execution_count": 12,
   "id": "f7559084",
   "metadata": {},
   "outputs": [
    {
     "data": {
      "text/plain": [
       "[(4,)]"
      ]
     },
     "execution_count": 12,
     "metadata": {},
     "output_type": "execute_result"
    }
   ],
   "source": [
    "# COUNT the number of unique courses\n",
    "cursor.execute('SELECT COUNT(DISTINCT course_name) FROM courses;').fetchall()"
   ]
  },
  {
   "cell_type": "code",
   "execution_count": 7,
   "id": "37a0be51",
   "metadata": {},
   "outputs": [
    {
     "data": {
      "text/plain": [
       "[(2,)]"
      ]
     },
     "execution_count": 7,
     "metadata": {},
     "output_type": "execute_result"
    }
   ],
   "source": [
    "# JOIN the tables students and courses and COUNT the number of students with the major computer Science taking the course Python programming.\n",
    "cursor.execute('SELECT COUNT(students.name) FROM students INNER JOIN courses ON students.student_id = courses.student_id WHERE major IS \"Computer Science\" AND course_name IS \"Python programming\";').fetchall()"
   ]
  },
  {
   "cell_type": "code",
   "execution_count": 10,
   "id": "bca09509",
   "metadata": {},
   "outputs": [
    {
     "data": {
      "text/plain": [
       "[('John', 'Computer Science', 3.5, 'Python programming', 'A'),\n",
       " ('Samantha', 'Physics', 3.9, 'Python programming', 'A'),\n",
       " ('Jane', 'Physics', 3.8, 'Data Structures', 'B'),\n",
       " ('Bob', 'Engineering', 3.0, 'Database Systems', 'B'),\n",
       " ('Jessica', 'Engineering', 3.8, 'Database Systems', 'A'),\n",
       " ('Jacob', 'Physics', 3.4, 'Quantum Mechanics', 'A')]"
      ]
     },
     "execution_count": 10,
     "metadata": {},
     "output_type": "execute_result"
    }
   ],
   "source": [
    "# JOIN the tables students and courses and select the students who have grades higher than \"C\", only show their name, major, gpa, course_name and grade.\n",
    "cursor.execute('SELECT name, major, gpa, course_name, grade FROM students INNER JOIN courses ON students.student_id = courses.student_id WHERE grade < \"C\";').fetchall()"
   ]
  },
  {
   "cell_type": "code",
   "execution_count": null,
   "id": "a12ecb6a",
   "metadata": {},
   "outputs": [],
   "source": []
  },
  {
   "cell_type": "code",
   "execution_count": null,
   "id": "f38e2872",
   "metadata": {},
   "outputs": [],
   "source": []
  },
  {
   "attachments": {},
   "cell_type": "markdown",
   "id": "15852b7c",
   "metadata": {},
   "source": [
    "### Q3 Aggregate functions, numerical logic and grouping\n"
   ]
  },
  {
   "cell_type": "code",
   "execution_count": null,
   "id": "f9db47aa",
   "metadata": {},
   "outputs": [
    {
     "data": {
      "text/plain": [
       "[(3.5800000000000005,)]"
      ]
     },
     "metadata": {},
     "output_type": "display_data"
    }
   ],
   "source": [
    "# Find the average gpa of all students\n",
    "cursor.execute('SELECT AVG(gpa) FROM students;').fetchall()"
   ]
  },
  {
   "cell_type": "code",
   "execution_count": 24,
   "id": "b50a8ed8",
   "metadata": {},
   "outputs": [
    {
     "data": {
      "text/plain": [
       "[(4, 'Physics', 3.9)]"
      ]
     },
     "execution_count": 24,
     "metadata": {},
     "output_type": "execute_result"
    }
   ],
   "source": [
    "# SELECT the student with the maximum gpa, display only their student_id, major and gpa\n",
    "cursor.execute('SELECT student_id, major, MAX(gpa) FROM students;').fetchall()"
   ]
  },
  {
   "cell_type": "code",
   "execution_count": 25,
   "id": "65991d98",
   "metadata": {},
   "outputs": [
    {
     "data": {
      "text/plain": [
       "[(3, 'Engineering', 3.0)]"
      ]
     },
     "execution_count": 25,
     "metadata": {},
     "output_type": "execute_result"
    }
   ],
   "source": [
    "# SELECT the student with the minimum gpa, display only their student_id, major and gpa\n",
    "cursor.execute('SELECT student_id, major, MIN(gpa) FROM students;').fetchall()"
   ]
  },
  {
   "cell_type": "code",
   "execution_count": 11,
   "id": "2f95c791",
   "metadata": {},
   "outputs": [
    {
     "data": {
      "text/plain": [
       "[(2, 'Physics', 3.8),\n",
       " (4, 'Physics', 3.9),\n",
       " (5, 'Engineering', 3.7),\n",
       " (8, 'Engineering', 3.8),\n",
       " (10, 'Physics', 3.9)]"
      ]
     },
     "execution_count": 11,
     "metadata": {},
     "output_type": "execute_result"
    }
   ],
   "source": [
    "# SELECT the students with a gpa greater than 3.6 in the majors of \"Physics\" and \"Engineering\", display only their student_id, major and gpa\n",
    "cursor.execute('SELECT student_id, major, gpa FROM students WHERE (major IS \"Physics\" OR major IS \"Engineering\") AND gpa > 3.6;').fetchall()"
   ]
  },
  {
   "cell_type": "code",
   "execution_count": 16,
   "id": "cfdf6c16",
   "metadata": {},
   "outputs": [
    {
     "data": {
      "text/plain": [
       "[(3.4333333333333336, 'Computer Science'),\n",
       " (3.5, 'Engineering'),\n",
       " (3.75, 'Physics')]"
      ]
     },
     "execution_count": 16,
     "metadata": {},
     "output_type": "execute_result"
    }
   ],
   "source": [
    "# Group the students by their major and retrieve the average grade of each major.\n",
    "cursor.execute('SELECT AVG(gpa),major FROM courses INNER JOIN students ON courses.student_id = students.student_id GROUP BY major;').fetchall()"
   ]
  },
  {
   "cell_type": "code",
   "execution_count": 21,
   "id": "aed5f6f4",
   "metadata": {},
   "outputs": [
    {
     "data": {
      "text/plain": [
       "[('Computer Science', 3.6, 1),\n",
       " ('Computer Science', 3.5, 2),\n",
       " ('Engineering', 3.8, 1),\n",
       " ('Engineering', 3.7, 2),\n",
       " ('Physics', 3.9, 1),\n",
       " ('Physics', 3.9, 2)]"
      ]
     },
     "execution_count": 21,
     "metadata": {},
     "output_type": "execute_result"
    }
   ],
   "source": [
    "# SELECT the top 2 students with the highest GPA in each major and order the results by major in ascending order, then by GPA in descending order\n",
    "cursor.execute('SELECT * FROM (SELECT major, gpa, row_number() OVER (PARTITION BY major ORDER BY gpa DESC) AS c_rank FROM students) ranks WHERE c_rank <=2;').fetchall()"
   ]
  },
  {
   "cell_type": "code",
   "execution_count": null,
   "id": "1ec041b2",
   "metadata": {},
   "outputs": [],
   "source": []
  },
  {
   "cell_type": "code",
   "execution_count": null,
   "id": "7650e537",
   "metadata": {},
   "outputs": [],
   "source": []
  }
 ],
 "metadata": {
  "kernelspec": {
   "display_name": "Python 3",
   "language": "python",
   "name": "python3"
  },
  "language_info": {
   "codemirror_mode": {
    "name": "ipython",
    "version": 3
   },
   "file_extension": ".py",
   "mimetype": "text/x-python",
   "name": "python",
   "nbconvert_exporter": "python",
   "pygments_lexer": "ipython3",
   "version": "3.8.9"
  },
  "vscode": {
   "interpreter": {
    "hash": "31f2aee4e71d21fbe5cf8b01ff0e069b9275f58929596ceb00d14d90e3e16cd6"
   }
  }
 },
 "nbformat": 4,
 "nbformat_minor": 5
}
